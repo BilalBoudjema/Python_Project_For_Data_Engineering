{
 "cells": [
  {
   "cell_type": "code",
   "execution_count": 13,
   "metadata": {},
   "outputs": [],
   "source": [
    "import requests\n",
    "import sqlite3\n",
    "import pandas as pd\n",
    "from bs4 import BeautifulSoup"
   ]
  },
  {
   "cell_type": "code",
   "execution_count": 14,
   "metadata": {},
   "outputs": [],
   "source": [
    "# Initialization of known entities\n",
    "url = 'https://web.archive.org/web/20230902185655/https://en.everybodywiki.com/100_Most_Highly-Ranked_Films'\n",
    "db_name = 'Movies.db'\n",
    "table_name = 'Top_25'\n",
    "csv_path = 'top_25_films.csv'\n",
    "df = pd.DataFrame(columns=[\"Average Rank\",\"Film\",\"Year\"])\n",
    "count = 0"
   ]
  },
  {
   "cell_type": "code",
   "execution_count": 15,
   "metadata": {},
   "outputs": [],
   "source": [
    "# Loading the webpage for Webscraping\n",
    "html_page = requests.get(url).text\n",
    "data = BeautifulSoup(html_page, 'html.parser')"
   ]
  },
  {
   "cell_type": "code",
   "execution_count": 16,
   "metadata": {},
   "outputs": [],
   "source": [
    "# Scraping of required information\n",
    "tables = data.find_all('tbody')\n",
    "# Rows of the first table\n",
    "rows = tables[0].find_all('tr')"
   ]
  },
  {
   "cell_type": "code",
   "execution_count": 17,
   "metadata": {},
   "outputs": [],
   "source": [
    "for row in rows:\n",
    "    if count<25:\n",
    "        col = row.find_all('td')\n",
    "        if len(col)!=0:\n",
    "            data_dict = {\"Film\": col[1].contents[0],\n",
    "                         \"Year\": col[2].contents[0],\n",
    "                         \"Rotten Tomatoes' Top 100\": col[3].contents[0]}\n",
    "            df1 = pd.DataFrame(data_dict, index=[0])\n",
    "            df = pd.concat([df,df1], ignore_index=True)\n",
    "            count+=1\n",
    "    else:\n",
    "        break"
   ]
  },
  {
   "cell_type": "code",
   "execution_count": 21,
   "metadata": {},
   "outputs": [
    {
     "name": "stdout",
     "output_type": "stream",
     "text": [
      "   Average Rank                                           Film  Year  \\\n",
      "16          NaN                                       Parasite  2019   \n",
      "18          NaN  Lord of the Rings: The Fellowship of the Ring  2001   \n",
      "22          NaN                              Avengers: Endgame  2019   \n",
      "\n",
      "   Rotten Tomatoes' Top 100  \n",
      "16                        6  \n",
      "18                 unranked  \n",
      "22                        7  \n"
     ]
    }
   ],
   "source": [
    "df['Year'] = pd.to_numeric(df['Year'])\n",
    "\n",
    "# Filter for films released in the 2000s\n",
    "# filtered_df = df[(df['Release_Year'] >= 2000) & (df['Release_Year'] <= 2009)]\n",
    "\n",
    "\n",
    "# Filter for films released in the 2000s\n",
    "filtered_df = df[df['Year'] >= 2000]\n",
    "\n",
    "# Print the filtered DataFrame\n",
    "print(filtered_df)"
   ]
  },
  {
   "cell_type": "code",
   "execution_count": 19,
   "metadata": {},
   "outputs": [],
   "source": [
    "# Storing the data to csv\n",
    "df.to_csv(csv_path)\n",
    "\n",
    "\n",
    "# Storing the data to  database\n",
    "conn = sqlite3.connect(db_name)\n",
    "df.to_sql(table_name, conn, if_exists='replace', index=False)\n",
    "conn.close()\n"
   ]
  }
 ],
 "metadata": {
  "kernelspec": {
   "display_name": "Python 3",
   "language": "python",
   "name": "python3"
  },
  "language_info": {
   "codemirror_mode": {
    "name": "ipython",
    "version": 3
   },
   "file_extension": ".py",
   "mimetype": "text/x-python",
   "name": "python",
   "nbconvert_exporter": "python",
   "pygments_lexer": "ipython3",
   "version": "3.11.4"
  }
 },
 "nbformat": 4,
 "nbformat_minor": 2
}
